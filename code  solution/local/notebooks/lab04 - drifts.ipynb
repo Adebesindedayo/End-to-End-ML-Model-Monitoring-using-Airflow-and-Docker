{
 "cells": [
  {
   "cell_type": "markdown",
   "id": "61279bf0-edaf-4275-87a9-7924328e867b",
   "metadata": {},
   "source": [
    "# Monitoring ML Training Pipeline: Drifts\n",
    "\n",
    "**Quick recap:**\n",
    "- Goal: \n",
    "    - Building a classication model for loan eligibility that predicts whether a loan is to be given or refused\n",
    "     - Introduce autonomous monitoring checkpoints orchestrated with Airflow DAGS\n",
    "- Download raw data: `raw/12196ecaa65e4831987aee4bfced5f60_2015-01-01_2015-05-31.csv`\n",
    "- Preprocessed the data into:\n",
    "    - training dataset: `preprocessed/12196ecaa65e4831987aee4bfced5f60.csv`\n",
    "    - test dataset: `preprocessed/12196ecaa65e4831987aee4bfced5f60.csv`\n",
    "\n",
    "- Trained and deployed the model\n",
    "    - JobID: 12196ecaa65e4831987aee4bfced5f60\n",
    "    - Missing values: 12196ecaa65e4831987aee4bfced5f60_missing_values_model.pkl\n",
    "    - Purpose to Integer: 12196ecaa65e4831987aee4bfced5f60_purpose_to_int_model.json\n",
    "    - Prediction model: 12196ecaa65e4831987aee4bfced5f60_rf.pkl\n",
    "\n",
    "**Next steps:**\n",
    "- data quality check\n",
    "- data drift check\n",
    "- model drift check\n",
    "- comparative model evaluation\n",
    "\n",
    "<div>\n",
    "<img src=\"../images/monitored_pipeline.png\" width=\"850\"/>\n",
    "</div>\n",
    "\n",
    "**Tools**\n",
    "- deepchecks\n",
    "\n",
    "## Motivation\n",
    "In real life, data science teams will spend more of their time on developing new models and little to no time to daily check on their models currently in production. Hence, there is need of an automated monitoring system that can alert the team whenever there is any significant change that is impacting prediction performance on their models\n",
    "\n",
    "### What to monitor in production?\n",
    "\n",
    "**Data quality issues**\n",
    "\n",
    "Depending on the process the data goes through until being fed to a model. Data could be coming multiple sources with different formats or formats changing over time, renamed fields, new categories, etc. Any of these changes can lead to a significant impact on the model performance\n",
    "\n",
    "**Data drift & Concept drift**\n",
    "\n",
    "In real world, data is always changing. Changes can be due to change in business behavior such as a company operating in a new region, the company introducing a new product, new competitions in the market, social trends, global events affecting each industry ... These changes may affect the distribution of the data as we knew it at the time of the previous training session and hence the data we trained our model on becomes less and less relevant to the business problem over time.\n",
    "\n",
    "*Data drift* happens when the input feature probability distribution P(X) changes over time. This can be due to either some change in the data structure or change in real world.\n",
    "\n",
    "*Concept drifts* happens when the probability distribution P(Y|X) of the output changes over time. This can be caused by changes in data structure or a shift in real world data, which affects prediction quality indefinitely. A typical example is Digital Marketing where the common metric CTR can change drastically due to new competitions. Concept drift can be *gradual*, *sudden*, *in blips* or *recurring*.\n",
    "\n",
    "**Model drift**\n",
    "\n",
    "The model drift happens when the predictive power of last trained model on any new dataset deteriotes over time. This is usually a consequence of data and concept drifts. In other situation, it could also be due to a model that wasn't stabilized against bias or overfitting. In our current situation, we will assume that the model was stabilized enough during training.\n",
    "\n",
    "**Statistical metrics**\n",
    "- [Kolomogorov-Smirnoff (K-S) test](https://en.wikipedia.org/wiki/Kolmogorov%E2%80%93Smirnov_test)\n",
    "- [Cramer's V](https://en.wikipedia.org/wiki/Cram%C3%A9r%27s_V)\n",
    "- [Predictive Power Score](https://docs.deepchecks.com/en/stable/checks_gallery/tabular/train_test_validation/plot_feature_label_correlation_change.html#)\n",
    "- Outlier detection\n",
    "\n",
    "**Resources**\n",
    "- [How to monitor ml models in production](https://deepchecks.com/how-to-monitor-ml-models-in-production/)"
   ]
  },
  {
   "cell_type": "code",
   "execution_count": null,
   "id": "3bde574b",
   "metadata": {},
   "outputs": [],
   "source": [
    "import warnings\n",
    "warnings.filterwarnings('ignore')\n",
    "\n",
    "from datetime import datetime\n",
    "import traceback\n",
    "import pandas as pd\n",
    "import numpy as np\n",
    "import os\n",
    "import json\n",
    "import pickle\n",
    "import datetime\n",
    "from sklearn.ensemble import BaseEnsemble\n",
    "\n",
    "from deepchecks.tabular import Dataset\n",
    "from deepchecks.tabular import Suite\n",
    "from deepchecks.tabular.checks import WholeDatasetDrift, DataDuplicates, NewLabelTrainTest, TrainTestFeatureDrift, TrainTestLabelDrift\n",
    "from deepchecks.tabular.checks import FeatureLabelCorrelation, FeatureLabelCorrelationChange, ConflictingLabels, OutlierSampleDetection \n",
    "from deepchecks.tabular.checks import WeakSegmentsPerformance, RocReport, ConfusionMatrixReport, TrainTestPredictionDrift, CalibrationScore, BoostingOverfit\n",
    "\n",
    "import sys\n",
    "from importlib import reload\n",
    "sys.path.append(os.path.join(os.path.dirname(os.getcwd()), 'dags', 'src'))\n",
    "\n",
    "import helpers\n",
    "import config\n",
    "import preprocess\n",
    "\n",
    "reload(helpers)\n",
    "reload(config)\n",
    "reload(preprocess)"
   ]
  },
  {
   "cell_type": "code",
   "execution_count": null,
   "id": "d43bbce5-888f-4907-970f-b7317b5bb9ef",
   "metadata": {},
   "outputs": [],
   "source": [
    "#### drifts.py methods ####\n",
    "def check_data_quality(df:pd.DataFrame, predictors:list, target:str, job_id:str):\n",
    "    \"\"\"\n",
    "    checks for data quality.\n",
    "    A report will be saved in the results directory.\n",
    "    :param df: dataframe to check\n",
    "    :param predictors: predictors to check for drifts\n",
    "    :param target: target variable to check for drifts\n",
    "    :param job_id: job ID\n",
    "    :return: boolean\n",
    "    \"\"\"\n",
    "    features = [col for col in predictors if col in df.columns]\n",
    "    cat_features = [col for col in config.CAT_VARS if col in df.columns]\n",
    "    dataset = Dataset(df, label=target, features=features, cat_features=cat_features, datetime_name=config.DATETIME_VARS[0])\n",
    "    retrain_suite = Suite(\"data quality\",\n",
    "        DataDuplicates().add_condition_ratio_less_or_equal(0.3), #Checks for duplicate samples in the dataset\n",
    "        ConflictingLabels().add_condition_ratio_of_conflicting_labels_less_or_equal(0), #Find samples which have the exact same features' values but different labels\n",
    "        FeatureLabelCorrelation().add_condition_feature_pps_less_than(0.9), #Return the PPS (Predictive Power Score) of all features in relation to the label\n",
    "        OutlierSampleDetection(outlier_score_threshold=0.7).add_condition_outlier_ratio_less_or_equal(0.1), #Detects outliers in a dataset using the LoOP algorithm\n",
    "    )\n",
    "    r = retrain_suite.run(dataset)\n",
    "    try:\n",
    "        r.save_as_html(f\"{config.PATH_DIR_RESULTS}/{job_id}_data_quality_report.html\")\n",
    "        print(\"[INFO] Data quality report saved as {}\".format(f\"{config.PATH_DIR_RESULTS}/{job_id}_data_quality_report.html\"))\n",
    "    except Exception as e:\n",
    "        print(f\"[WARNING][DRIFTS.SKIP_TRAIN] {traceback.format_exc()}\")\n",
    "    return {\"report\": r, \"retrain\": r.passed()}\n",
    "\n",
    "def check_data_drift(ref_df:pd.DataFrame, cur_df:pd.DataFrame, predictors:list, target:str, job_id:str):\n",
    "    \"\"\"\n",
    "    Check for data drifts between two datasets and decide whether to retrain the model. \n",
    "    A report will be saved in the results directory.\n",
    "    :param ref_df: Reference dataset\n",
    "    :param cur_df: Current dataset\n",
    "    :param predictors: Predictors to check for drifts\n",
    "    :param target: Target variable to check for drifts\n",
    "    :param job_id: Job ID\n",
    "    :return: boolean\n",
    "    \"\"\"\n",
    "    ref_features = [col for col in predictors if col in ref_df.columns]\n",
    "    cur_features = [col for col in predictors if col in cur_df.columns]\n",
    "    ref_cat_features = [col for col in config.CAT_VARS if col in ref_df.columns]\n",
    "    cur_cat_features = [col for col in config.CAT_VARS if col in cur_df.columns]\n",
    "    ref_dataset = Dataset(ref_df, label=target, features=ref_features, cat_features=ref_cat_features, datetime_name=config.DATETIME_VARS[0])\n",
    "    cur_dataset = Dataset(cur_df, label=target, features=cur_features, cat_features=cur_cat_features, datetime_name=config.DATETIME_VARS[0])\n",
    "    \n",
    "    suite = Suite(\"data drift\",\n",
    "        NewLabelTrainTest(),\n",
    "        WholeDatasetDrift().add_condition_overall_drift_value_less_than(0.01), #0.2\n",
    "        FeatureLabelCorrelationChange().add_condition_feature_pps_difference_less_than(0.05), #0.2\n",
    "        TrainTestFeatureDrift().add_condition_drift_score_less_than(0.01), #0.1\n",
    "        TrainTestLabelDrift().add_condition_drift_score_less_than(0.01) #0.1\n",
    "    )\n",
    "    r = suite.run(ref_dataset, cur_dataset)\n",
    "    retrain = (len(r.get_not_ran_checks())>0) or (len(r.get_not_passed_checks())>0)\n",
    "    \n",
    "    try:\n",
    "        r.save_as_html(f\"{config.PATH_DIR_RESULTS}/{job_id}_data_drift_report.html\")\n",
    "        print(\"[INFO] Data drift report saved as {}\".format(f\"{config.PATH_DIR_RESULTS}/{job_id}_data_drift_report.html\"))\n",
    "    except Exception as e:\n",
    "        print(f\"[WARNING][DRIFTS.check_DATA_DRIFT] {traceback.format_exc()}\")\n",
    "    return {\"report\": r, \"retrain\": retrain}\n",
    "\n",
    "def check_model_drift(ref_df:pd.DataFrame, cur_df:pd.DataFrame, model:BaseEnsemble, predictors:list, target:str, job_id:str):\n",
    "    \"\"\"\n",
    "    Using the same pre-trained model, compare drifts in predictions between two datasets and decides whether to retrain the model. A report will be saved in the results directory.\n",
    "    :param ref_df: Reference dataset\n",
    "    :param cur_df: Current dataset\n",
    "    :param model: Pre-trained model. Only scikit-learn and xgboost models are supported.\n",
    "    :param predictors: Predictors to check for drifts\n",
    "    :param target: Target variable to check for drifts\n",
    "    :param job_id: Job ID\n",
    "    :return: boolean\n",
    "    \"\"\"\n",
    "    ref_features = [col for col in predictors if col in ref_df.columns]\n",
    "    cur_features = [col for col in predictors if col in cur_df.columns]\n",
    "    ref_cat_features = [col for col in config.CAT_VARS if col in ref_df.columns]\n",
    "    cur_cat_features = [col for col in config.CAT_VARS if col in cur_df.columns]\n",
    "    ref_dataset = Dataset(ref_df, label=target, features=ref_features, cat_features=ref_cat_features, datetime_name=config.DATETIME_VARS[0])\n",
    "    cur_dataset = Dataset(cur_df, label=target, features=cur_features, cat_features=cur_cat_features, datetime_name=config.DATETIME_VARS[0])\n",
    "    \n",
    "    suite = Suite(\"model drift\",\n",
    "        #For each class plots the ROC curve, calculate AUC score and displays the optimal threshold cutoff point.\n",
    "        RocReport().add_condition_auc_greater_than(0.7), \n",
    "        #Calculate prediction drift between train dataset and test dataset, Cramer's V for categorical output and Earth Movers Distance for numerical output.\n",
    "        TrainTestPredictionDrift().add_condition_drift_score_less_than(max_allowed_categorical_score=0.1) \n",
    "        )\n",
    "    r = suite.run(ref_dataset, cur_dataset, model)\n",
    "    retrain = (len(r.get_not_ran_checks())>0) or (len(r.get_not_passed_checks())>0)\n",
    "    try:\n",
    "        r.save_as_html(f\"{config.PATH_DIR_RESULTS}/{job_id}_model_drift_report.html\")\n",
    "        print(\"[INFO] Model drift report saved as {}\".format(f\"{config.PATH_DIR_RESULTS}/{job_id}_model_drift_report.html\"))\n",
    "    except Exception as e:\n",
    "        print(f\"[WARNING][DRIFTS.check_MODEL_DRIFT] {traceback.format_exc()}\")\n",
    "    \n",
    "    return {\"report\": r, \"retrain\": retrain}"
   ]
  },
  {
   "cell_type": "code",
   "execution_count": null,
   "id": "d05d320b",
   "metadata": {},
   "outputs": [],
   "source": [
    "job_id1 = \"12196ecaa65e4831987aee4bfced5f60\"\n",
    "job_id2 = \"a6f0952cd9b54e319ac4fbcef223556c\" \n",
    "job_id3 = \"aa4c3eaadb02409281b589829e3c9370\"\n",
    "filename1 = f\"../dags/data/raw/{job_id1}_2015-01-01_2015-05-31.csv\"\n",
    "filename2 = f\"../dags/data/raw/{job_id2}_2015-01-01_2015-05-31.csv\"\n",
    "filename3 = f\"../dags/data/raw/{job_id3}_2015-06-01_2015-12-31.csv\"\n",
    "\n",
    "df1 = pd.read_csv(filename1)\n",
    "df2 = pd.read_csv(filename2)\n",
    "df3 = pd.read_csv(filename3)\n",
    "\n",
    "tdf1 = pd.read_csv(f\"../dags/data/preprocessed/{job_id1}_training.csv\")\n",
    "vdf1 = pd.read_csv(f\"../dags/data/preprocessed/{job_id1}_inference.csv\")\n",
    "vdf2 = preprocess.preprocess_data(df=df2, mode=\"inference\", job_id=job_id2, rescale=False, ref_job_id=job_id1)\n",
    "vdf3 = preprocess.preprocess_data(df=df3, mode=\"inference\", job_id=job_id3, rescale=False, ref_job_id=job_id1)\n",
    "\n",
    "deploy_report = json.load(open(f\"../dags/models/deploy_report.json\", \"r\"))\n",
    "pred_model = pickle.load(open(f\"../dags/models/{deploy_report['prediction_model']}\", \"rb\"))"
   ]
  },
  {
   "cell_type": "code",
   "execution_count": 26,
   "id": "57c362f9-88f6-49cd-8000-9b508b4f26ff",
   "metadata": {},
   "outputs": [
    {
     "data": {
      "text/html": [
       "\n",
       "    <style>\n",
       "        progress {\n",
       "            -webkit-appearance: none;\n",
       "            border: none;\n",
       "            border-radius: 3px;\n",
       "            width: 300px;\n",
       "            height: 20px;\n",
       "            vertical-align: middle;\n",
       "            margin-right: 10px;\n",
       "            background-color: aliceblue;\n",
       "        }\n",
       "        progress::-webkit-progress-bar {\n",
       "            border-radius: 3px;\n",
       "            background-color: aliceblue;\n",
       "        }\n",
       "        progress::-webkit-progress-value {\n",
       "            background-color: #9d60fb;\n",
       "        }\n",
       "        progress::-moz-progress-bar {\n",
       "            background-color: #9d60fb;\n",
       "        }\n",
       "    </style>\n",
       "    "
      ]
     },
     "metadata": {},
     "output_type": "display_data"
    },
    {
     "data": {
      "text/html": []
     },
     "metadata": {},
     "output_type": "display_data"
    },
    {
     "name": "stdout",
     "output_type": "stream",
     "text": [
      "[INFO] Data quality report saved as /Users/girabawe/Projects/ProjectPro/project_01_model-testing/dags/results/8a0281dfd8be44aba405a02c2adc8622_data_quality_report.html\n"
     ]
    },
    {
     "data": {
      "text/html": [
       "\n",
       "    <style>\n",
       "        progress {\n",
       "            -webkit-appearance: none;\n",
       "            border: none;\n",
       "            border-radius: 3px;\n",
       "            width: 300px;\n",
       "            height: 20px;\n",
       "            vertical-align: middle;\n",
       "            margin-right: 10px;\n",
       "            background-color: aliceblue;\n",
       "        }\n",
       "        progress::-webkit-progress-bar {\n",
       "            border-radius: 3px;\n",
       "            background-color: aliceblue;\n",
       "        }\n",
       "        progress::-webkit-progress-value {\n",
       "            background-color: #9d60fb;\n",
       "        }\n",
       "        progress::-moz-progress-bar {\n",
       "            background-color: #9d60fb;\n",
       "        }\n",
       "    </style>\n",
       "    "
      ]
     },
     "metadata": {},
     "output_type": "display_data"
    },
    {
     "data": {
      "text/html": []
     },
     "metadata": {},
     "output_type": "display_data"
    },
    {
     "name": "stdout",
     "output_type": "stream",
     "text": [
      "[INFO] Data quality report saved as /Users/girabawe/Projects/ProjectPro/project_01_model-testing/dags/results/a763ea0e608c4fc2a090f365669da986_data_quality_report.html\n"
     ]
    },
    {
     "data": {
      "text/html": [
       "\n",
       "    <style>\n",
       "        progress {\n",
       "            -webkit-appearance: none;\n",
       "            border: none;\n",
       "            border-radius: 3px;\n",
       "            width: 300px;\n",
       "            height: 20px;\n",
       "            vertical-align: middle;\n",
       "            margin-right: 10px;\n",
       "            background-color: aliceblue;\n",
       "        }\n",
       "        progress::-webkit-progress-bar {\n",
       "            border-radius: 3px;\n",
       "            background-color: aliceblue;\n",
       "        }\n",
       "        progress::-webkit-progress-value {\n",
       "            background-color: #9d60fb;\n",
       "        }\n",
       "        progress::-moz-progress-bar {\n",
       "            background-color: #9d60fb;\n",
       "        }\n",
       "    </style>\n",
       "    "
      ]
     },
     "metadata": {},
     "output_type": "display_data"
    },
    {
     "data": {
      "text/html": []
     },
     "metadata": {},
     "output_type": "display_data"
    },
    {
     "name": "stdout",
     "output_type": "stream",
     "text": [
      "[INFO] Data quality report saved as /Users/girabawe/Projects/ProjectPro/project_01_model-testing/dags/results/c4930da6c81a4fcdaf708453c1bad93d_data_quality_report.html\n"
     ]
    }
   ],
   "source": [
    "dq_chk1 = check_data_quality(df1, predictors=config.PREDICTORS, target=config.TARGET, job_id=job_id1)\n",
    "dq_chk2 = check_data_quality(df2, predictors=config.PREDICTORS, target=config.TARGET, job_id=job_id2)\n",
    "dq_chk3 = check_data_quality(df3, predictors=config.PREDICTORS, target=config.TARGET, job_id=job_id3)"
   ]
  },
  {
   "cell_type": "code",
   "execution_count": 17,
   "id": "2cb189ee-263f-46d3-a0f4-73d3d1ee74e5",
   "metadata": {},
   "outputs": [
    {
     "name": "stdout",
     "output_type": "stream",
     "text": [
      "retrain: True\n"
     ]
    },
    {
     "data": {
      "application/vnd.jupyter.widget-view+json": {
       "model_id": "2c9b27dc179f490cb1afd5363b1edc0c",
       "version_major": 2,
       "version_minor": 0
      },
      "text/plain": [
       "Accordion(children=(VBox(children=(HTML(value='\\n            <h1 id=\"summary_37VT06Q9Q44FORWLP4UC87KO4\">data q…"
      ]
     },
     "metadata": {},
     "output_type": "display_data"
    }
   ],
   "source": [
    "print(f\"retrain: {dq_chk1['retrain']}\")\n",
    "dq_chk1['report']"
   ]
  },
  {
   "cell_type": "code",
   "execution_count": 91,
   "id": "be84b992-e762-41d2-9b0e-a89c3d2f828d",
   "metadata": {},
   "outputs": [
    {
     "data": {
      "text/html": [
       "\n",
       "    <style>\n",
       "        progress {\n",
       "            -webkit-appearance: none;\n",
       "            border: none;\n",
       "            border-radius: 3px;\n",
       "            width: 300px;\n",
       "            height: 20px;\n",
       "            vertical-align: middle;\n",
       "            margin-right: 10px;\n",
       "            background-color: aliceblue;\n",
       "        }\n",
       "        progress::-webkit-progress-bar {\n",
       "            border-radius: 3px;\n",
       "            background-color: aliceblue;\n",
       "        }\n",
       "        progress::-webkit-progress-value {\n",
       "            background-color: #9d60fb;\n",
       "        }\n",
       "        progress::-moz-progress-bar {\n",
       "            background-color: #9d60fb;\n",
       "        }\n",
       "    </style>\n",
       "    "
      ]
     },
     "metadata": {},
     "output_type": "display_data"
    },
    {
     "data": {
      "text/html": []
     },
     "metadata": {},
     "output_type": "display_data"
    },
    {
     "name": "stdout",
     "output_type": "stream",
     "text": [
      "[INFO] Data drift report saved as /Users/girabawe/Projects/ProjectPro/project_01_model-testing/dags/results/a763ea0e608c4fc2a090f365669da986_data_drift_report.html\n"
     ]
    },
    {
     "data": {
      "text/html": [
       "\n",
       "    <style>\n",
       "        progress {\n",
       "            -webkit-appearance: none;\n",
       "            border: none;\n",
       "            border-radius: 3px;\n",
       "            width: 300px;\n",
       "            height: 20px;\n",
       "            vertical-align: middle;\n",
       "            margin-right: 10px;\n",
       "            background-color: aliceblue;\n",
       "        }\n",
       "        progress::-webkit-progress-bar {\n",
       "            border-radius: 3px;\n",
       "            background-color: aliceblue;\n",
       "        }\n",
       "        progress::-webkit-progress-value {\n",
       "            background-color: #9d60fb;\n",
       "        }\n",
       "        progress::-moz-progress-bar {\n",
       "            background-color: #9d60fb;\n",
       "        }\n",
       "    </style>\n",
       "    "
      ]
     },
     "metadata": {},
     "output_type": "display_data"
    },
    {
     "data": {
      "text/html": []
     },
     "metadata": {},
     "output_type": "display_data"
    },
    {
     "name": "stdout",
     "output_type": "stream",
     "text": [
      "[INFO] Data drift report saved as /Users/girabawe/Projects/ProjectPro/project_01_model-testing/dags/results/c4930da6c81a4fcdaf708453c1bad93d_data_drift_report.html\n"
     ]
    },
    {
     "data": {
      "text/html": [
       "\n",
       "    <style>\n",
       "        progress {\n",
       "            -webkit-appearance: none;\n",
       "            border: none;\n",
       "            border-radius: 3px;\n",
       "            width: 300px;\n",
       "            height: 20px;\n",
       "            vertical-align: middle;\n",
       "            margin-right: 10px;\n",
       "            background-color: aliceblue;\n",
       "        }\n",
       "        progress::-webkit-progress-bar {\n",
       "            border-radius: 3px;\n",
       "            background-color: aliceblue;\n",
       "        }\n",
       "        progress::-webkit-progress-value {\n",
       "            background-color: #9d60fb;\n",
       "        }\n",
       "        progress::-moz-progress-bar {\n",
       "            background-color: #9d60fb;\n",
       "        }\n",
       "    </style>\n",
       "    "
      ]
     },
     "metadata": {},
     "output_type": "display_data"
    },
    {
     "data": {
      "text/html": []
     },
     "metadata": {},
     "output_type": "display_data"
    },
    {
     "name": "stdout",
     "output_type": "stream",
     "text": [
      "[INFO] Data drift report saved as /Users/girabawe/Projects/ProjectPro/project_01_model-testing/dags/results/a763ea0e608c4fc2a090f365669da986_b_data_drift_report.html\n"
     ]
    },
    {
     "data": {
      "text/html": [
       "\n",
       "    <style>\n",
       "        progress {\n",
       "            -webkit-appearance: none;\n",
       "            border: none;\n",
       "            border-radius: 3px;\n",
       "            width: 300px;\n",
       "            height: 20px;\n",
       "            vertical-align: middle;\n",
       "            margin-right: 10px;\n",
       "            background-color: aliceblue;\n",
       "        }\n",
       "        progress::-webkit-progress-bar {\n",
       "            border-radius: 3px;\n",
       "            background-color: aliceblue;\n",
       "        }\n",
       "        progress::-webkit-progress-value {\n",
       "            background-color: #9d60fb;\n",
       "        }\n",
       "        progress::-moz-progress-bar {\n",
       "            background-color: #9d60fb;\n",
       "        }\n",
       "    </style>\n",
       "    "
      ]
     },
     "metadata": {},
     "output_type": "display_data"
    },
    {
     "data": {
      "text/html": []
     },
     "metadata": {},
     "output_type": "display_data"
    },
    {
     "name": "stdout",
     "output_type": "stream",
     "text": [
      "[INFO] Data drift report saved as /Users/girabawe/Projects/ProjectPro/project_01_model-testing/dags/results/c4930da6c81a4fcdaf708453c1bad93d_b_data_drift_report.html\n"
     ]
    }
   ],
   "source": [
    "# compare raw data\n",
    "dd_1_2 = check_data_drift(ref_df=df1, cur_df=df2, predictors=config.PREDICTORS, target=config.TARGET, job_id=job_id2)\n",
    "dd_1_3 = check_data_drift(ref_df=df1, cur_df=df3, predictors=config.PREDICTORS, target=config.TARGET, job_id=job_id3)\n",
    "\n",
    "# compare preprocessed datasets\n",
    "dd_1_2b = check_data_drift(ref_df=vdf1, cur_df=vdf2, predictors=config.PREDICTORS, target=config.TARGET, job_id=job_id2+\"_b\")\n",
    "dd_1_3b = check_data_drift(ref_df=vdf1, cur_df=vdf3, predictors=config.PREDICTORS, target=config.TARGET, job_id=job_id3+\"_b\")"
   ]
  },
  {
   "cell_type": "code",
   "execution_count": 96,
   "id": "1cc6c6dc-40d9-48a3-a0dd-9eff401d434f",
   "metadata": {},
   "outputs": [
    {
     "name": "stdout",
     "output_type": "stream",
     "text": [
      "retrain: False\n"
     ]
    },
    {
     "data": {
      "application/vnd.jupyter.widget-view+json": {
       "model_id": "fab39a29ec5c496b985919da9ef817d2",
       "version_major": 2,
       "version_minor": 0
      },
      "text/plain": [
       "Accordion(children=(VBox(children=(HTML(value='\\n            <h1 id=\"summary_O13RA0ZGUP42LCVBGL45SP66U\">data d…"
      ]
     },
     "metadata": {},
     "output_type": "display_data"
    }
   ],
   "source": [
    "print(f\"retrain: {dd_1_2b['retrain']}\")\n",
    "dd_1_2b['report']"
   ]
  },
  {
   "cell_type": "code",
   "execution_count": 97,
   "id": "5830dc31-c967-42c0-a425-95bb4b4bc461",
   "metadata": {},
   "outputs": [
    {
     "name": "stdout",
     "output_type": "stream",
     "text": [
      "retrain: True\n"
     ]
    },
    {
     "data": {
      "application/vnd.jupyter.widget-view+json": {
       "model_id": "b67170b0b2e448d9bcb09b1bdd26dcc8",
       "version_major": 2,
       "version_minor": 0
      },
      "text/plain": [
       "Accordion(children=(VBox(children=(HTML(value='\\n            <h1 id=\"summary_XIB7L835WP1SQU5ML1DK8C9MD\">data d…"
      ]
     },
     "metadata": {},
     "output_type": "display_data"
    }
   ],
   "source": [
    "print(f\"retrain: {dd_1_3b['retrain']}\")\n",
    "dd_1_3b['report']"
   ]
  },
  {
   "cell_type": "code",
   "execution_count": 115,
   "id": "c54b8433-4c50-4cd3-a0c3-d0c67c3fa2c1",
   "metadata": {},
   "outputs": [
    {
     "data": {
      "text/html": [
       "\n",
       "    <style>\n",
       "        progress {\n",
       "            -webkit-appearance: none;\n",
       "            border: none;\n",
       "            border-radius: 3px;\n",
       "            width: 300px;\n",
       "            height: 20px;\n",
       "            vertical-align: middle;\n",
       "            margin-right: 10px;\n",
       "            background-color: aliceblue;\n",
       "        }\n",
       "        progress::-webkit-progress-bar {\n",
       "            border-radius: 3px;\n",
       "            background-color: aliceblue;\n",
       "        }\n",
       "        progress::-webkit-progress-value {\n",
       "            background-color: #9d60fb;\n",
       "        }\n",
       "        progress::-moz-progress-bar {\n",
       "            background-color: #9d60fb;\n",
       "        }\n",
       "    </style>\n",
       "    "
      ]
     },
     "metadata": {},
     "output_type": "display_data"
    },
    {
     "data": {
      "text/html": []
     },
     "metadata": {},
     "output_type": "display_data"
    },
    {
     "name": "stdout",
     "output_type": "stream",
     "text": [
      "[INFO] Model drift report saved as /Users/girabawe/Projects/ProjectPro/project_01_model-testing/dags/results/a763ea0e608c4fc2a090f365669da986_model_drift_report.html\n"
     ]
    },
    {
     "data": {
      "text/html": [
       "\n",
       "    <style>\n",
       "        progress {\n",
       "            -webkit-appearance: none;\n",
       "            border: none;\n",
       "            border-radius: 3px;\n",
       "            width: 300px;\n",
       "            height: 20px;\n",
       "            vertical-align: middle;\n",
       "            margin-right: 10px;\n",
       "            background-color: aliceblue;\n",
       "        }\n",
       "        progress::-webkit-progress-bar {\n",
       "            border-radius: 3px;\n",
       "            background-color: aliceblue;\n",
       "        }\n",
       "        progress::-webkit-progress-value {\n",
       "            background-color: #9d60fb;\n",
       "        }\n",
       "        progress::-moz-progress-bar {\n",
       "            background-color: #9d60fb;\n",
       "        }\n",
       "    </style>\n",
       "    "
      ]
     },
     "metadata": {},
     "output_type": "display_data"
    },
    {
     "data": {
      "text/html": []
     },
     "metadata": {},
     "output_type": "display_data"
    },
    {
     "name": "stdout",
     "output_type": "stream",
     "text": [
      "[INFO] Model drift report saved as /Users/girabawe/Projects/ProjectPro/project_01_model-testing/dags/results/c4930da6c81a4fcdaf708453c1bad93d_model_drift_report.html\n"
     ]
    }
   ],
   "source": [
    "md_1_2 = check_model_drift(ref_df=vdf1, cur_df=vdf2, model=pred_model, predictors=config.PREDICTORS, target=config.TARGET, job_id=job_id2)\n",
    "md_1_3 = check_model_drift(ref_df=vdf1, cur_df=vdf3, model=pred_model, predictors=config.PREDICTORS, target=config.TARGET, job_id=job_id3)"
   ]
  },
  {
   "cell_type": "code",
   "execution_count": 117,
   "id": "e9cb3ab1-2a6d-42c6-8949-0e3130f33310",
   "metadata": {},
   "outputs": [
    {
     "name": "stdout",
     "output_type": "stream",
     "text": [
      "retrain: False\n"
     ]
    },
    {
     "data": {
      "application/vnd.jupyter.widget-view+json": {
       "model_id": "1fcff48e9b614b308f9439d14eaa464a",
       "version_major": 2,
       "version_minor": 0
      },
      "text/plain": [
       "Accordion(children=(VBox(children=(HTML(value='\\n            <h1 id=\"summary_VGUMR7ZGMGFDX6AJVR6T3XZJA\">model …"
      ]
     },
     "metadata": {},
     "output_type": "display_data"
    }
   ],
   "source": [
    "print(f\"retrain: {md_1_3['retrain']}\")\n",
    "md_1_3['report']"
   ]
  },
  {
   "cell_type": "code",
   "execution_count": null,
   "id": "ce815f3e-2009-415a-97e8-796abaaf2a0d",
   "metadata": {},
   "outputs": [],
   "source": []
  },
  {
   "cell_type": "code",
   "execution_count": null,
   "id": "45b66d7f-9820-4b6e-8b67-1ca10becac4b",
   "metadata": {},
   "outputs": [],
   "source": []
  }
 ],
 "metadata": {
  "kernelspec": {
   "display_name": "Python 3.8.8 64-bit ('Anaconda3')",
   "language": "python",
   "name": "python3"
  },
  "language_info": {
   "codemirror_mode": {
    "name": "ipython",
    "version": 3
   },
   "file_extension": ".py",
   "mimetype": "text/x-python",
   "name": "python",
   "nbconvert_exporter": "python",
   "pygments_lexer": "ipython3",
   "version": "3.8.8"
  },
  "vscode": {
   "interpreter": {
    "hash": "9054e5812adb29eebbcd6b680e8ef1afc4fe6e00a75ff130e735bd95b5b32301"
   }
  }
 },
 "nbformat": 4,
 "nbformat_minor": 5
}
